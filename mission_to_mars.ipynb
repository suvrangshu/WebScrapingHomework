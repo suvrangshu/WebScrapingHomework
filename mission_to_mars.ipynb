{
 "cells": [
  {
   "cell_type": "code",
   "execution_count": 1,
   "metadata": {},
   "outputs": [],
   "source": [
    "#Author Suvrangshu Ghosh\n",
    "#mission_to_mars.ipynb\n",
    "from splinter import Browser\n",
    "from bs4 import BeautifulSoup\n",
    "import time\n",
    "import pandas as pd"
   ]
  },
  {
   "cell_type": "code",
   "execution_count": 2,
   "metadata": {},
   "outputs": [],
   "source": [
    "# This is the initial scraper code "
   ]
  },
  {
   "cell_type": "code",
   "execution_count": 4,
   "metadata": {},
   "outputs": [],
   "source": [
    " executable_path = {'executable_path': \"drivers/chromedriver\"}\n",
    " browser = Browser('chrome', **executable_path, headless=False)"
   ]
  },
  {
   "cell_type": "code",
   "execution_count": 5,
   "metadata": {},
   "outputs": [],
   "source": [
    "url = 'https://mars.nasa.gov/news/'\n",
    "pic_url = 'https://www.jpl.nasa.gov/spaceimages/?search=&category=Mars'\n",
    "twit_url = 'https://twitter.com/marswxreport?lang=en'\n",
    "fact_url = 'http://space-facts.com/mars/'\n",
    "hem_url = 'https://astrogeology.usgs.gov/search/results?q=hemisphere+enhanced&k1=target&v1=Mars'"
   ]
  },
  {
   "cell_type": "code",
   "execution_count": 6,
   "metadata": {},
   "outputs": [],
   "source": [
    "\n",
    "browser.visit(url)\n",
    "\n",
    "html = browser.html\n",
    "time.sleep(2)\n",
    "soup = BeautifulSoup(html, \"html.parser\")\n",
    "#soup = BeautifulSoup(html, \"lxml\")\n",
    "\n",
    "\n"
   ]
  },
  {
   "cell_type": "code",
   "execution_count": 7,
   "metadata": {},
   "outputs": [],
   "source": [
    "#title = soup.find_all('div', class_='content_title') # gets all title\n",
    "title = soup.find('div', class_='content_title') # gets 1st title"
   ]
  },
  {
   "cell_type": "code",
   "execution_count": 8,
   "metadata": {},
   "outputs": [
    {
     "data": {
      "text/plain": [
       "<div class=\"content_title\"><a href=\"/news/8416/after-a-reset-curiosity-is-operating-normally/\" target=\"_self\">After a Reset, Curiosity Is Operating Normally</a></div>"
      ]
     },
     "execution_count": 8,
     "metadata": {},
     "output_type": "execute_result"
    }
   ],
   "source": [
    "title"
   ]
  },
  {
   "cell_type": "code",
   "execution_count": 9,
   "metadata": {},
   "outputs": [
    {
     "name": "stdout",
     "output_type": "stream",
     "text": [
      "After a Reset, Curiosity Is Operating Normally\n"
     ]
    }
   ],
   "source": [
    "print(title.text)"
   ]
  },
  {
   "cell_type": "code",
   "execution_count": 10,
   "metadata": {},
   "outputs": [],
   "source": [
    "news_title = title.text\n"
   ]
  },
  {
   "cell_type": "code",
   "execution_count": 11,
   "metadata": {},
   "outputs": [
    {
     "name": "stdout",
     "output_type": "stream",
     "text": [
      "<div class=\"article_teaser_body\">NASA's Mars rover Curiosity is in good health but takes a short break while engineers diagnose why it reset its computer. </div>\n"
     ]
    }
   ],
   "source": [
    "title_p = soup.find('div', class_='article_teaser_body') # gets paragraph text\n",
    "print(title_p)"
   ]
  },
  {
   "cell_type": "code",
   "execution_count": 12,
   "metadata": {},
   "outputs": [
    {
     "name": "stdout",
     "output_type": "stream",
     "text": [
      "NASA's Mars rover Curiosity is in good health but takes a short break while engineers diagnose why it reset its computer. \n"
     ]
    }
   ],
   "source": [
    "news_p = title_p.text\n",
    "print(news_p)"
   ]
  },
  {
   "cell_type": "code",
   "execution_count": 13,
   "metadata": {},
   "outputs": [],
   "source": [
    "## Section to get image\n",
    "browser.visit(pic_url)\n",
    "\n",
    "browser.click_link_by_partial_text('FULL IMAGE')\n",
    "\n",
    "time.sleep(1)\n",
    "\n"
   ]
  },
  {
   "cell_type": "code",
   "execution_count": 14,
   "metadata": {},
   "outputs": [],
   "source": [
    "browser.click_link_by_partial_text('more info')\n",
    "time.sleep(1)\n"
   ]
  },
  {
   "cell_type": "code",
   "execution_count": 15,
   "metadata": {},
   "outputs": [],
   "source": [
    "soup = BeautifulSoup(browser.html, \"html.parser\")"
   ]
  },
  {
   "cell_type": "code",
   "execution_count": 16,
   "metadata": {},
   "outputs": [
    {
     "name": "stdout",
     "output_type": "stream",
     "text": [
      "<img alt=\"This is a rare glance at the dark side of comet 67P/Churyumov-Gerasimenko was taken by OSIRIS, Rosetta's scientific imaging system.\" class=\"main_image\" src=\"/spaceimages/images/largesize/PIA19041_hires.jpg\" title=\"This is a rare glance at the dark side of comet 67P/Churyumov-Gerasimenko was taken by OSIRIS, Rosetta's scientific imaging system.\"/>\n"
     ]
    }
   ],
   "source": [
    "#get image\n",
    "#title = soup.find_all('div', class_='content_title') # gets all title\n",
    "image = soup.find('img', class_='main_image') # gets 1st title\n",
    "print(image)"
   ]
  },
  {
   "cell_type": "code",
   "execution_count": 17,
   "metadata": {},
   "outputs": [
    {
     "name": "stdout",
     "output_type": "stream",
     "text": [
      "/spaceimages/images/largesize/PIA19041_hires.jpg\n"
     ]
    }
   ],
   "source": [
    "featured_image = image[\"src\"]\n",
    "print(featured_image)"
   ]
  },
  {
   "cell_type": "code",
   "execution_count": 18,
   "metadata": {},
   "outputs": [
    {
     "name": "stdout",
     "output_type": "stream",
     "text": [
      "https://www.jpl.nasa.gov/spaceimages/images/largesize/PIA19041_hires.jpg\n"
     ]
    }
   ],
   "source": [
    "#creating full path for the image url:\n",
    "featured_image_url = 'https://www.jpl.nasa.gov' + featured_image\n",
    "print(featured_image_url)"
   ]
  },
  {
   "cell_type": "code",
   "execution_count": 19,
   "metadata": {},
   "outputs": [],
   "source": [
    "#Twitter\n",
    "\n",
    "browser.visit(twit_url)\n",
    "time.sleep(2)\n",
    "\n",
    "soup = BeautifulSoup(browser.html, \"html.parser\")"
   ]
  },
  {
   "cell_type": "code",
   "execution_count": 20,
   "metadata": {},
   "outputs": [
    {
     "name": "stdout",
     "output_type": "stream",
     "text": [
      "<p class=\"TweetTextSize TweetTextSize--normal js-tweet-text tweet-text\" data-aria-label-part=\"0\" lang=\"en\">Curiosity is again operating normally following a boot problem first experienced last Friday. Look for more Gale Crater weather conditions soon.\n",
      "<a class=\"twitter-timeline-link\" data-expanded-url=\"https://www.jpl.nasa.gov/news/news.php?feature=7339\" dir=\"ltr\" href=\"https://t.co/zZsLjEsTpC\" rel=\"nofollow noopener\" target=\"_blank\" title=\"https://www.jpl.nasa.gov/news/news.php?feature=7339\"><span class=\"tco-ellipsis\"></span><span class=\"invisible\">https://www.</span><span class=\"js-display-url\">jpl.nasa.gov/news/news.php?</span><span class=\"invisible\">feature=7339</span><span class=\"tco-ellipsis\"><span class=\"invisible\"> </span>…</span></a><a class=\"twitter-timeline-link u-hidden\" data-pre-embedded=\"true\" dir=\"ltr\" href=\"https://t.co/gFMfXyeWDa\">pic.twitter.com/gFMfXyeWDa</a></p>\n"
     ]
    }
   ],
   "source": [
    "#twit = soup.find_all('div', class_='content_title') # gets all title\n",
    "twit = soup.find('p', class_='tweet-text') # gets 1st title\n",
    "print(twit)"
   ]
  },
  {
   "cell_type": "code",
   "execution_count": null,
   "metadata": {},
   "outputs": [],
   "source": []
  },
  {
   "cell_type": "code",
   "execution_count": 21,
   "metadata": {},
   "outputs": [
    {
     "name": "stdout",
     "output_type": "stream",
     "text": [
      "Curiosity is again operating normally following a boot problem first experienced last Friday. Look for more Gale Crater weather conditions soon.\n",
      "https://www.jpl.nasa.gov/news/news.php?feature=7339 …pic.twitter.com/gFMfXyeWDa\n"
     ]
    }
   ],
   "source": [
    "mars_weather= twit.text\n",
    "print(mars_weather)"
   ]
  },
  {
   "cell_type": "code",
   "execution_count": 22,
   "metadata": {},
   "outputs": [],
   "source": [
    "x = mars_weather.split(\"\\n\")"
   ]
  },
  {
   "cell_type": "code",
   "execution_count": 23,
   "metadata": {},
   "outputs": [
    {
     "name": "stdout",
     "output_type": "stream",
     "text": [
      "['Curiosity is again operating normally following a boot problem first experienced last Friday. Look for more Gale Crater weather conditions soon.', 'https://www.jpl.nasa.gov/news/news.php?feature=7339\\xa0…pic.twitter.com/gFMfXyeWDa']\n"
     ]
    }
   ],
   "source": [
    "print(x)"
   ]
  },
  {
   "cell_type": "code",
   "execution_count": 24,
   "metadata": {},
   "outputs": [
    {
     "name": "stdout",
     "output_type": "stream",
     "text": [
      "Curiosity is again operating normally following a boot problem first experienced last Friday. Look for more Gale Crater weather conditions soon.\n"
     ]
    }
   ],
   "source": [
    "mars_weather = x[0]\n",
    "print(mars_weather)"
   ]
  },
  {
   "cell_type": "code",
   "execution_count": 25,
   "metadata": {},
   "outputs": [
    {
     "data": {
      "text/plain": [
       "[                      0                              1\n",
       " 0  Equatorial Diameter:                       6,792 km\n",
       " 1       Polar Diameter:                       6,752 km\n",
       " 2                 Mass:  6.42 x 10^23 kg (10.7% Earth)\n",
       " 3                Moons:            2 (Phobos & Deimos)\n",
       " 4       Orbit Distance:       227,943,824 km (1.52 AU)\n",
       " 5         Orbit Period:           687 days (1.9 years)\n",
       " 6  Surface Temperature:                  -153 to 20 °C\n",
       " 7         First Record:              2nd millennium BC\n",
       " 8          Recorded By:           Egyptian astronomers]"
      ]
     },
     "execution_count": 25,
     "metadata": {},
     "output_type": "execute_result"
    }
   ],
   "source": [
    "#Fact Url :\n",
    "tables = pd.read_html(fact_url)\n",
    "tables"
   ]
  },
  {
   "cell_type": "code",
   "execution_count": 26,
   "metadata": {},
   "outputs": [
    {
     "data": {
      "text/html": [
       "<div>\n",
       "<style scoped>\n",
       "    .dataframe tbody tr th:only-of-type {\n",
       "        vertical-align: middle;\n",
       "    }\n",
       "\n",
       "    .dataframe tbody tr th {\n",
       "        vertical-align: top;\n",
       "    }\n",
       "\n",
       "    .dataframe thead th {\n",
       "        text-align: right;\n",
       "    }\n",
       "</style>\n",
       "<table border=\"1\" class=\"dataframe\">\n",
       "  <thead>\n",
       "    <tr style=\"text-align: right;\">\n",
       "      <th></th>\n",
       "      <th>0</th>\n",
       "      <th>1</th>\n",
       "    </tr>\n",
       "  </thead>\n",
       "  <tbody>\n",
       "    <tr>\n",
       "      <th>0</th>\n",
       "      <td>Equatorial Diameter:</td>\n",
       "      <td>6,792 km</td>\n",
       "    </tr>\n",
       "    <tr>\n",
       "      <th>1</th>\n",
       "      <td>Polar Diameter:</td>\n",
       "      <td>6,752 km</td>\n",
       "    </tr>\n",
       "    <tr>\n",
       "      <th>2</th>\n",
       "      <td>Mass:</td>\n",
       "      <td>6.42 x 10^23 kg (10.7% Earth)</td>\n",
       "    </tr>\n",
       "    <tr>\n",
       "      <th>3</th>\n",
       "      <td>Moons:</td>\n",
       "      <td>2 (Phobos &amp; Deimos)</td>\n",
       "    </tr>\n",
       "    <tr>\n",
       "      <th>4</th>\n",
       "      <td>Orbit Distance:</td>\n",
       "      <td>227,943,824 km (1.52 AU)</td>\n",
       "    </tr>\n",
       "    <tr>\n",
       "      <th>5</th>\n",
       "      <td>Orbit Period:</td>\n",
       "      <td>687 days (1.9 years)</td>\n",
       "    </tr>\n",
       "    <tr>\n",
       "      <th>6</th>\n",
       "      <td>Surface Temperature:</td>\n",
       "      <td>-153 to 20 °C</td>\n",
       "    </tr>\n",
       "    <tr>\n",
       "      <th>7</th>\n",
       "      <td>First Record:</td>\n",
       "      <td>2nd millennium BC</td>\n",
       "    </tr>\n",
       "    <tr>\n",
       "      <th>8</th>\n",
       "      <td>Recorded By:</td>\n",
       "      <td>Egyptian astronomers</td>\n",
       "    </tr>\n",
       "  </tbody>\n",
       "</table>\n",
       "</div>"
      ],
      "text/plain": [
       "                      0                              1\n",
       "0  Equatorial Diameter:                       6,792 km\n",
       "1       Polar Diameter:                       6,752 km\n",
       "2                 Mass:  6.42 x 10^23 kg (10.7% Earth)\n",
       "3                Moons:            2 (Phobos & Deimos)\n",
       "4       Orbit Distance:       227,943,824 km (1.52 AU)\n",
       "5         Orbit Period:           687 days (1.9 years)\n",
       "6  Surface Temperature:                  -153 to 20 °C\n",
       "7         First Record:              2nd millennium BC\n",
       "8          Recorded By:           Egyptian astronomers"
      ]
     },
     "execution_count": 26,
     "metadata": {},
     "output_type": "execute_result"
    }
   ],
   "source": [
    "tables[0]"
   ]
  },
  {
   "cell_type": "code",
   "execution_count": 27,
   "metadata": {},
   "outputs": [
    {
     "data": {
      "text/html": [
       "<div>\n",
       "<style scoped>\n",
       "    .dataframe tbody tr th:only-of-type {\n",
       "        vertical-align: middle;\n",
       "    }\n",
       "\n",
       "    .dataframe tbody tr th {\n",
       "        vertical-align: top;\n",
       "    }\n",
       "\n",
       "    .dataframe thead th {\n",
       "        text-align: right;\n",
       "    }\n",
       "</style>\n",
       "<table border=\"1\" class=\"dataframe\">\n",
       "  <thead>\n",
       "    <tr style=\"text-align: right;\">\n",
       "      <th></th>\n",
       "      <th>Mars_detail</th>\n",
       "      <th>Values</th>\n",
       "    </tr>\n",
       "  </thead>\n",
       "  <tbody>\n",
       "    <tr>\n",
       "      <th>0</th>\n",
       "      <td>Equatorial Diameter:</td>\n",
       "      <td>6,792 km</td>\n",
       "    </tr>\n",
       "    <tr>\n",
       "      <th>1</th>\n",
       "      <td>Polar Diameter:</td>\n",
       "      <td>6,752 km</td>\n",
       "    </tr>\n",
       "    <tr>\n",
       "      <th>2</th>\n",
       "      <td>Mass:</td>\n",
       "      <td>6.42 x 10^23 kg (10.7% Earth)</td>\n",
       "    </tr>\n",
       "    <tr>\n",
       "      <th>3</th>\n",
       "      <td>Moons:</td>\n",
       "      <td>2 (Phobos &amp; Deimos)</td>\n",
       "    </tr>\n",
       "    <tr>\n",
       "      <th>4</th>\n",
       "      <td>Orbit Distance:</td>\n",
       "      <td>227,943,824 km (1.52 AU)</td>\n",
       "    </tr>\n",
       "    <tr>\n",
       "      <th>5</th>\n",
       "      <td>Orbit Period:</td>\n",
       "      <td>687 days (1.9 years)</td>\n",
       "    </tr>\n",
       "    <tr>\n",
       "      <th>6</th>\n",
       "      <td>Surface Temperature:</td>\n",
       "      <td>-153 to 20 °C</td>\n",
       "    </tr>\n",
       "    <tr>\n",
       "      <th>7</th>\n",
       "      <td>First Record:</td>\n",
       "      <td>2nd millennium BC</td>\n",
       "    </tr>\n",
       "    <tr>\n",
       "      <th>8</th>\n",
       "      <td>Recorded By:</td>\n",
       "      <td>Egyptian astronomers</td>\n",
       "    </tr>\n",
       "  </tbody>\n",
       "</table>\n",
       "</div>"
      ],
      "text/plain": [
       "            Mars_detail                         Values\n",
       "0  Equatorial Diameter:                       6,792 km\n",
       "1       Polar Diameter:                       6,752 km\n",
       "2                 Mass:  6.42 x 10^23 kg (10.7% Earth)\n",
       "3                Moons:            2 (Phobos & Deimos)\n",
       "4       Orbit Distance:       227,943,824 km (1.52 AU)\n",
       "5         Orbit Period:           687 days (1.9 years)\n",
       "6  Surface Temperature:                  -153 to 20 °C\n",
       "7         First Record:              2nd millennium BC\n",
       "8          Recorded By:           Egyptian astronomers"
      ]
     },
     "execution_count": 27,
     "metadata": {},
     "output_type": "execute_result"
    }
   ],
   "source": [
    "df = tables[0]\n",
    "df.columns = ['Mars_detail', 'Values']\n",
    "df"
   ]
  },
  {
   "cell_type": "code",
   "execution_count": 28,
   "metadata": {},
   "outputs": [
    {
     "data": {
      "text/plain": [
       "'<table border=\"1\" class=\"dataframe\">  <thead>    <tr style=\"text-align: right;\">      <th></th>      <th>Mars_detail</th>      <th>Values</th>    </tr>  </thead>  <tbody>    <tr>      <th>0</th>      <td>Equatorial Diameter:</td>      <td>6,792 km</td>    </tr>    <tr>      <th>1</th>      <td>Polar Diameter:</td>      <td>6,752 km</td>    </tr>    <tr>      <th>2</th>      <td>Mass:</td>      <td>6.42 x 10^23 kg (10.7% Earth)</td>    </tr>    <tr>      <th>3</th>      <td>Moons:</td>      <td>2 (Phobos &amp; Deimos)</td>    </tr>    <tr>      <th>4</th>      <td>Orbit Distance:</td>      <td>227,943,824 km (1.52 AU)</td>    </tr>    <tr>      <th>5</th>      <td>Orbit Period:</td>      <td>687 days (1.9 years)</td>    </tr>    <tr>      <th>6</th>      <td>Surface Temperature:</td>      <td>-153 to 20 °C</td>    </tr>    <tr>      <th>7</th>      <td>First Record:</td>      <td>2nd millennium BC</td>    </tr>    <tr>      <th>8</th>      <td>Recorded By:</td>      <td>Egyptian astronomers</td>    </tr>  </tbody></table>'"
      ]
     },
     "execution_count": 28,
     "metadata": {},
     "output_type": "execute_result"
    }
   ],
   "source": [
    "#pandas to HTML\n",
    "html_table = df.to_html()\n",
    "\n",
    "html_table = html_table.replace('\\n', '')\n",
    "html_table"
   ]
  },
  {
   "cell_type": "code",
   "execution_count": 31,
   "metadata": {},
   "outputs": [
    {
     "data": {
      "text/plain": [
       "<!DOCTYPE html>\n",
       "<html lang=\"en\" xmlns=\"http://www.w3.org/1999/xhtml\"><head>\n",
       "<link href=\"//ajax.googleapis.com/ajax/libs/jqueryui/1.11.3/themes/smoothness/jquery-ui.css\" rel=\"stylesheet\" type=\"text/css\"/>\n",
       "<script async=\"\" src=\"https://ssl.google-analytics.com/ga.js\" type=\"text/javascript\"></script><script src=\"https://ajax.googleapis.com/ajax/libs/jquery/1.11.1/jquery.min.js\" type=\"text/javascript\"></script>\n",
       "<title>Astropedia Search Results | USGS Astrogeology Science Center</title>\n",
       "<meta content=\"USGS Astrogeology Science Center Astropedia search results.\" name=\"description\"/>\n",
       "<meta content=\"USGS,Astrogeology Science Center,Cartography,Geology,Space,Geological Survey,Mapping\" name=\"keywords\"/>\n",
       "<meta content=\"IE=edge\" http-equiv=\"X-UA-Compatible\"/>\n",
       "<meta content=\"text/html; charset=utf-8\" http-equiv=\"Content-Type\"/>\n",
       "<meta content=\"width=device-width, initial-scale=1, maximum-scale=1\" name=\"viewport\"/>\n",
       "<meta content=\"x61hXXVj7wtfBSNOPnTftajMsZ5yB2W-qRoyr7GtOKM\" name=\"google-site-verification\"/>\n",
       "<!--<link rel=\"stylesheet\" href=\"http://fonts.googleapis.com/css?family=Open+Sans:400italic,400,bold\"/>-->\n",
       "<link href=\"/css/main.css\" media=\"screen\" rel=\"stylesheet\"/>\n",
       "<link href=\"/css/print.css\" media=\"print\" rel=\"stylesheet\"/>\n",
       "<!--[if lt IE 9]>\n",
       "\t\t\t<script src=\"http://html5shiv.googlecode.com/svn/trunk/html5.js\"></script>\n",
       "\t\t\t<script src=\"/js/respond.min.js\"></script>\n",
       "\t\t\t<link rel=\"stylesheet\" type=\"text/css\" href=\"/css/ie.css\"/>\n",
       "                        <script>\n",
       "                          document.createElement('header');\n",
       "                          document.createElement('nav');\n",
       "                          document.createElement('section');\n",
       "                          document.createElement('article');\n",
       "                          document.createElement('aside');\n",
       "                          document.createElement('footer');\n",
       "                          document.createElement('hgroup');\n",
       "                        </script>\n",
       "                  <![endif]-->\n",
       "<link href=\"/favicon.ico\" rel=\"icon\" type=\"image/x-ico\"/>\n",
       "</head>\n",
       "<body id=\"results\">\n",
       "<header>\n",
       "<h1>Astrogeology Science Center</h1>\n",
       "<a href=\"http://www.usgs.gov\">\n",
       "<img alt=\"USGS: Science for a Changing World\" class=\"logo\" height=\"70\" src=\"/images/usgs_logo_main_2x.png\" width=\"180\"/>\n",
       "</a>\n",
       "</header>\n",
       "<div class=\"wrapper\">\n",
       "<nav>\n",
       "<a href=\"#\" id=\"nav-toggle\" title=\"Navigation Menu\">Menu</a>\n",
       "<ul class=\"dropdown dropdown-horizontal\" id=\"yw0\">\n",
       "<li><a href=\"/\">Home</a></li>\n",
       "<li><a href=\"/about\">About</a>\n",
       "<ul>\n",
       "<li><a href=\"/about/careers\">Careers</a></li>\n",
       "<li><a href=\"/contact\">Contact</a></li>\n",
       "<li><a href=\"/about/events\">Events</a></li>\n",
       "<li><a href=\"/site/glossary\">Glossary</a></li>\n",
       "<li><a href=\"/about/mission\">Mission</a></li>\n",
       "<li><a href=\"/news\">News</a></li>\n",
       "<li><a href=\"/people\">People</a></li>\n",
       "<li><a href=\"/about/using-our-images\">Using Our Images</a></li>\n",
       "<li><a href=\"/about/visitors\">Visitors</a></li>\n",
       "</ul>\n",
       "</li>\n",
       "<li><a href=\"/facilities\">Labs / Facilities</a>\n",
       "<ul>\n",
       "<li><a href=\"/facilities/flynn-creek-crater-sample-collection\">Flynn Creek Crater Sample Collection</a></li>\n",
       "<li><a href=\"http://www.moon-cal.org\">Lunar Calibration Project</a></li>\n",
       "<li><a href=\"/facilities/meteor-crater-sample-collection\">Meteor Crater Sample Collection</a></li>\n",
       "<li><a href=\"/facilities/mrctr\">MRCTR GIS Lab</a></li>\n",
       "<li><a href=\"/facilities/cartography-and-imaging-sciences-node-of-nasa-planetary-data-system\">PDS Cartography and Imaging Sciences Node</a></li>\n",
       "<li><a href=\"/pds/annex\">PDS IMG Annex</a></li>\n",
       "<li><a href=\"/facilities/photogrammetry-guest-facility\">Photogrammetry Guest Facility</a></li>\n",
       "<li><a href=\"/rpif\">Regional Planetary Information Facility (RPIF)</a></li>\n",
       "</ul>\n",
       "</li>\n",
       "<li><a href=\"/maps\">Maps / Products</a>\n",
       "<ul>\n",
       "<li><a href=\"/search\">Product Search</a></li>\n",
       "<li><a href=\"http://planetarynames.wr.usgs.gov\">Gazetteer of Planetary Nomenclature</a></li>\n",
       "<li><a href=\"http://planetarymapping.wr.usgs.gov\">Geologic Mapping Program</a></li>\n",
       "<li><a href=\"http://pilot.wr.usgs.gov\">Planetary Image Locator Tool (PILOT)</a></li>\n",
       "<li><a href=\"/search/planetary-index\">Planetary Map Index</a></li>\n",
       "</ul>\n",
       "</li>\n",
       "<li><a href=\"/geology\">Missions / Research</a>\n",
       "<ul>\n",
       "<li><a href=\"/geology/mars-dunes\">Mars Dunes</a></li>\n",
       "<li><a href=\"/geology/mars-ice\">Mars Ice</a></li>\n",
       "<li><a href=\"/missions\">Mission Support</a></li>\n",
       "<li><a href=\"/solar-system\">Solar System</a></li>\n",
       "<li><a href=\"/groups\">Working Groups</a></li>\n",
       "</ul>\n",
       "</li>\n",
       "<li><a href=\"/tools\">Tools</a>\n",
       "<ul>\n",
       "<li><a href=\"http://planetarynames.wr.usgs.gov\">Gazetteer of Planetary Nomenclature</a></li>\n",
       "<li><a href=\"http://isis.astrogeology.usgs.gov\">Integrated Software for Imagers and Spectrometers (ISIS)</a></li>\n",
       "<li><a href=\"http://astrogeology.usgs.gov/tools/map-a-planet-2\">Map a Planet 2</a></li>\n",
       "<li><a href=\"http://pilot.wr.usgs.gov\">Planetary Image Locator Tool (PILOT)</a></li>\n",
       "<li><a href=\"http://astrocloud.wr.usgs.gov/\">Projection on the Web (POW)</a></li>\n",
       "</ul>\n",
       "</li>\n",
       "</ul> <form action=\"/search/results\" class=\"search\" id=\"search\" method=\"get\">\n",
       "<input title=\"Search Astropedia\" type=\"submit\" value=\"\"/>\n",
       "<input name=\"q\" placeholder=\"Search\" type=\"text\"/>\n",
       "<input name=\"__ncforminfo\" type=\"hidden\" value=\"7oB80abHc54vExqKPUifUQQ1LooLErRzw29FDx_tdVJdQcyP9o413R-ntuL_8lGDQUQB4ybaLhzz60ESRW_D7FJqok7H58ULCYV3YWvN5cY=\"/></form>\n",
       "</nav>\n",
       "<div class=\"container\">\n",
       "<form action=\"/search/results\" class=\"bar widget block\" id=\"search-bar\">\n",
       "<input name=\"q\" type=\"hidden\" value=\"hemisphere-enhanced\"/>\n",
       "<input name=\"target\" type=\"hidden\" value=\"Mars\"/><input name=\"__ncforminfo\" type=\"hidden\" value=\"7oB80abHc54vExqKPUifUQQ1LooLErRzw29FDx_tdVKIgQaNGUvPNrQNPfGWxL6Z_9OODfKs32cljusxBThJfm2xpZXiNboXB_pAZUgYGN4VdlljSEimoQ==\"/></form><div class=\"full-content\"> <section class=\"block\" id=\"results-accordian\">\n",
       "<div class=\"result-list\" data-section=\"product\" id=\"product-section\">\n",
       "<div class=\"accordian\">\n",
       "<h2>Products</h2>\n",
       "<span class=\"count\">4 Results</span>\n",
       "<span class=\"collapse\">Collapse</span>\n",
       "</div>\n",
       "<div class=\"collapsible results\">\n",
       "<div class=\"item\"><a class=\"itemLink product-item\" href=\"/search/map/Mars/Viking/cerberus_enhanced\"><img alt=\"Cerberus Hemisphere Enhanced thumbnail\" class=\"thumb\" src=\"/cache/images/dfaf3849e74bf973b59eb50dab52b583_cerberus_enhanced.tif_thumb.png\"/></a><div class=\"description\"><a class=\"itemLink product-item\" href=\"/search/map/Mars/Viking/cerberus_enhanced\"><h3>Cerberus Hemisphere Enhanced</h3></a><span class=\"subtitle\" style=\"float:left\">image/tiff 21 MB</span><span class=\"pubDate\" style=\"float:right\"></span><br/><p>Mosaic of the Cerberus hemisphere of Mars projected into point perspective, a view similar to that which one would see from a spacecraft. This mosaic is composed of 104 Viking Orbiter images acquired…</p></div> <!-- end description --></div><div class=\"item\"><a class=\"itemLink product-item\" href=\"/search/map/Mars/Viking/schiaparelli_enhanced\"><img alt=\"Schiaparelli Hemisphere Enhanced thumbnail\" class=\"thumb\" src=\"/cache/images/7677c0a006b83871b5a2f66985ab5857_schiaparelli_enhanced.tif_thumb.png\"/></a><div class=\"description\"><a class=\"itemLink product-item\" href=\"/search/map/Mars/Viking/schiaparelli_enhanced\"><h3>Schiaparelli Hemisphere Enhanced</h3></a><span class=\"subtitle\" style=\"float:left\">image/tiff 35 MB</span><span class=\"pubDate\" style=\"float:right\"></span><br/><p>Mosaic of the Schiaparelli hemisphere of Mars projected into point perspective, a view similar to that which one would see from a spacecraft. The images were acquired in 1980 during early northern…</p></div> <!-- end description --></div><div class=\"item\"><a class=\"itemLink product-item\" href=\"/search/map/Mars/Viking/syrtis_major_enhanced\"><img alt=\"Syrtis Major Hemisphere Enhanced thumbnail\" class=\"thumb\" src=\"/cache/images/aae41197e40d6d4f3ea557f8cfe51d15_syrtis_major_enhanced.tif_thumb.png\"/></a><div class=\"description\"><a class=\"itemLink product-item\" href=\"/search/map/Mars/Viking/syrtis_major_enhanced\"><h3>Syrtis Major Hemisphere Enhanced</h3></a><span class=\"subtitle\" style=\"float:left\">image/tiff 25 MB</span><span class=\"pubDate\" style=\"float:right\"></span><br/><p>Mosaic of the Syrtis Major hemisphere of Mars projected into point perspective, a view similar to that which one would see from a spacecraft. This mosaic is composed of about 100 red and violet…</p></div> <!-- end description --></div><div class=\"item\"><a class=\"itemLink product-item\" href=\"/search/map/Mars/Viking/valles_marineris_enhanced\"><img alt=\"Valles Marineris Hemisphere Enhanced thumbnail\" class=\"thumb\" src=\"/cache/images/04085d99ec3713883a9a57f42be9c725_valles_marineris_enhanced.tif_thumb.png\"/></a><div class=\"description\"><a class=\"itemLink product-item\" href=\"/search/map/Mars/Viking/valles_marineris_enhanced\"><h3>Valles Marineris Hemisphere Enhanced</h3></a><span class=\"subtitle\" style=\"float:left\">image/tiff 27 MB</span><span class=\"pubDate\" style=\"float:right\"></span><br/><p>Mosaic of the Valles Marineris hemisphere of Mars projected into point perspective, a view similar to that which one would see from a spacecraft. The distance is 2500 kilometers from the surface of…</p></div> <!-- end description --></div><script>addBases=[];;if(typeof resetLayerSwitcher===\"function\"){resetLayerSwitcher(false)};var productTotal = 4;</script>\n",
       "</div> <!-- end this-section -->\n",
       "</div></section>\n",
       "</div>\n",
       "</div>\n",
       "<div class=\"icons projects black scroll-wrapper\">\n",
       "<div class=\"scroll\">\n",
       "<a class=\"icon\" href=\"http://isis.astrogeology.usgs.gov\" title=\"Integrated Software for Imagers and Spectrometers\">\n",
       "<img alt=\"ISIS Logo\" height=\"112\" src=\"/images/logos/isis_2x.jpg\" width=\"112\"/>\n",
       "<span class=\"label\">ISIS</span>\n",
       "</a>\n",
       "<a class=\"icon\" href=\"http://planetarynames.wr.usgs.gov\" title=\"Gazetteer of Planetary Nomenclature\">\n",
       "<img alt=\"Nomenclature Logo\" height=\"112\" src=\"/images/logos/nomenclature_2x.jpg\" width=\"112\"/>\n",
       "<span class=\"label\">Planetary Nomenclature</span>\n",
       "</a>\n",
       "<a class=\"icon\" href=\"http://astrogeology.usgs.gov/tools/map\" title=\"Map a Planet 2\">\n",
       "<img alt=\"Map-a-Planet Logo\" height=\"112\" src=\"/images/logos/map_a_planet_2x.jpg\" width=\"112\"/>\n",
       "<span class=\"label\">Map a Planet 2</span>\n",
       "</a>\n",
       "<a class=\"icon\" href=\"/facilities/imaging-node-of-nasa-planetary-data-system-pds\" title=\"PDS Imaging Node\">\n",
       "<img alt=\"PDS Logo\" height=\"112\" src=\"/images/pds_logo-black-web.png\"/>\n",
       "<span class=\"label\">PDS Imaging Node</span>\n",
       "</a>\n",
       "<!--\n",
       "\t\t\t\t\t\t<a title=\"Astropedia Search\" href=\"/search\" class=\"icon\">\n",
       "\t\t\t\t\t\t\t<img alt=\"Astropedia Logo\" height=\"112\" width=\"112\" src=\"/images/logos/astropedia_2x.jpg\"/>\n",
       "\t\t\t\t\t\t\t<span class=\"label\">Astropedia</span>\n",
       "\t\t\t\t\t\t</a>\n",
       "-->\n",
       "<a class=\"icon\" href=\"/rpif\" title=\"Regional Planetary Image Facility\">\n",
       "<img alt=\"RPIF Logo\" height=\"112\" src=\"/images/logos/rpif_2x.jpg\" width=\"112\"/>\n",
       "<span class=\"label\">RPIF</span>\n",
       "</a>\n",
       "<a class=\"icon\" href=\"/facilities/photogrammetry-guest-facility\" title=\"Photogrammetry Guest Facility\">\n",
       "<img alt=\"Photogrammetry Guest Faciltiy Logo\" height=\"112\" src=\"/images/logos/photogrammetry_2x.jpg\" width=\"112\"/>\n",
       "<span class=\"label\">Photogrammetry Guest Facility</span>\n",
       "</a>\n",
       "<a class=\"icon\" href=\"http://pilot.wr.usgs.gov\" title=\"Planetary Image Locator Tool\">\n",
       "<img alt=\"Pilot Logo\" height=\"112\" src=\"/images/logos/pilot_2x.jpg\" width=\"112\"/>\n",
       "<span class=\"label\">PILOT</span>\n",
       "</a>\n",
       "<a class=\"icon\" href=\"/facilities/mrctr\" title=\"Mapping, Remote-sensing, Cartography, Technology and Research GIS Lab\">\n",
       "<img alt=\"MRCTR GIS Lab Logo\" height=\"112\" src=\"/images/logos/mrctr_2x.jpg\" width=\"112\"/>\n",
       "<span class=\"label\">MRCTR GIS Lab</span>\n",
       "</a>\n",
       "</div>\n",
       "</div>\n",
       "<footer>\n",
       "<div class=\"left\">\n",
       "<a href=\"http://astrogeology.usgs.gov\">Home</a> |\n",
       "\t\t\t\t\t<a href=\"http://astrogeology.usgs.gov/contact\">Contact</a> |\n",
       "\t\t\t\t\t<a href=\"http://astrogeology.usgs.gov/about/events\">Events</a> |\n",
       "\t\t\t\t\t<a href=\"http://astrogeology.usgs.gov/news\">News</a>\n",
       "</div>\n",
       "<div class=\"right\">\n",
       "<a href=\"http://www.doi.gov\">U.S. Department of Interior</a> | <a href=\"http://www.usgs.gov\">U.S. Geological Survey</a> | <a href=\"http://www.usa.gov\">USA.gov</a>\n",
       "</div>\n",
       "</footer>\n",
       "</div>\n",
       "<!--\n",
       "\t\t<div class=\"credit\">\n",
       "\t\t\t<small>Background Credits: NASA/USGS</small>\n",
       "\t\t</div>\n",
       "-->\n",
       "<div class=\"page-background\" style=\"\n",
       "\t\t\tbackground:url('/images/backgrounds/mars.jpg');\n",
       "\t\t\tfilter:progid:DXImageTransform.Microsoft.AlphaImageLoader(\n",
       "\t\t\t\tsrc='/images/backgrounds/mars.jpg', sizingMethod='scale');\n",
       "\t\t\"></div>\n",
       "<script type=\"text/javascript\">\n",
       "var baseUrl = \"\";\n",
       "\n",
       "\n",
       "var _gaq = _gaq || [];_gaq.push(['_setAccount', 'UA-27613186-1']);_gaq.push(['_trackPageview']);(function() { var ga = document.createElement('script'); ga.type = 'text/javascript'; ga.async = true;ga.src = ('https:' == document.location.protocol ? 'https://ssl' : 'http://www') + '.google-analytics.com/ga.js'; var s = document.getElementsByTagName('script')[0]; s.parentNode.insertBefore(ga, s);})();\n",
       "\n",
       "\t\t</script>\n",
       "<script src=\"//ajax.googleapis.com/ajax/libs/jqueryui/1.11.3/jquery-ui.min.js\" type=\"text/javascript\"></script>\n",
       "<script src=\"/js/general.js\" type=\"text/javascript\"></script>\n",
       "</body></html>"
      ]
     },
     "execution_count": 31,
     "metadata": {},
     "output_type": "execute_result"
    }
   ],
   "source": [
    "#Mars Hemispheres\n",
    "\n",
    "browser.visit(hem_url)\n",
    "time.sleep(4)\n",
    "hemisphere_image_urls = []\n",
    "\n",
    "#soup = BeautifulSoup(browser.html, \"html.parser\")\n",
    "h_soup = BeautifulSoup(browser.html, 'lxml')\n",
    "h_soup"
   ]
  },
  {
   "cell_type": "code",
   "execution_count": 32,
   "metadata": {},
   "outputs": [
    {
     "name": "stdout",
     "output_type": "stream",
     "text": [
      "[<div class=\"description\"><a class=\"itemLink product-item\" href=\"/search/map/Mars/Viking/cerberus_enhanced\"><h3>Cerberus Hemisphere Enhanced</h3></a><span class=\"subtitle\" style=\"float:left\">image/tiff 21 MB</span><span class=\"pubDate\" style=\"float:right\"></span><br/><p>Mosaic of the Cerberus hemisphere of Mars projected into point perspective, a view similar to that which one would see from a spacecraft. This mosaic is composed of 104 Viking Orbiter images acquired…</p></div>, <div class=\"description\"><a class=\"itemLink product-item\" href=\"/search/map/Mars/Viking/schiaparelli_enhanced\"><h3>Schiaparelli Hemisphere Enhanced</h3></a><span class=\"subtitle\" style=\"float:left\">image/tiff 35 MB</span><span class=\"pubDate\" style=\"float:right\"></span><br/><p>Mosaic of the Schiaparelli hemisphere of Mars projected into point perspective, a view similar to that which one would see from a spacecraft. The images were acquired in 1980 during early northern…</p></div>, <div class=\"description\"><a class=\"itemLink product-item\" href=\"/search/map/Mars/Viking/syrtis_major_enhanced\"><h3>Syrtis Major Hemisphere Enhanced</h3></a><span class=\"subtitle\" style=\"float:left\">image/tiff 25 MB</span><span class=\"pubDate\" style=\"float:right\"></span><br/><p>Mosaic of the Syrtis Major hemisphere of Mars projected into point perspective, a view similar to that which one would see from a spacecraft. This mosaic is composed of about 100 red and violet…</p></div>, <div class=\"description\"><a class=\"itemLink product-item\" href=\"/search/map/Mars/Viking/valles_marineris_enhanced\"><h3>Valles Marineris Hemisphere Enhanced</h3></a><span class=\"subtitle\" style=\"float:left\">image/tiff 27 MB</span><span class=\"pubDate\" style=\"float:right\"></span><br/><p>Mosaic of the Valles Marineris hemisphere of Mars projected into point perspective, a view similar to that which one would see from a spacecraft. The distance is 2500 kilometers from the surface of…</p></div>]\n"
     ]
    }
   ],
   "source": [
    "hemis_check = h_soup.find_all(class_='description') #Trying with description\n",
    "print(hemis_check)"
   ]
  },
  {
   "cell_type": "code",
   "execution_count": 35,
   "metadata": {},
   "outputs": [
    {
     "name": "stdout",
     "output_type": "stream",
     "text": [
      "<a class=\"itemLink product-item\" href=\"/search/map/Mars/Viking/cerberus_enhanced\"><img alt=\"Cerberus Hemisphere Enhanced thumbnail\" class=\"thumb\" src=\"/cache/images/dfaf3849e74bf973b59eb50dab52b583_cerberus_enhanced.tif_thumb.png\"/></a>\n"
     ]
    }
   ],
   "source": [
    "hemis_check = h_soup.find_all(class_='product-item') #try with product-item\n",
    "\n",
    "print(hemis_check[0])"
   ]
  },
  {
   "cell_type": "code",
   "execution_count": 36,
   "metadata": {},
   "outputs": [],
   "source": [
    "# for results in hemis_check:\n",
    "#     hemis_check[results]"
   ]
  },
  {
   "cell_type": "code",
   "execution_count": 37,
   "metadata": {},
   "outputs": [
    {
     "name": "stdout",
     "output_type": "stream",
     "text": [
      "<a class=\"itemLink product-item\" href=\"/search/map/Mars/Viking/cerberus_enhanced\"><img alt=\"Cerberus Hemisphere Enhanced thumbnail\" class=\"thumb\" src=\"/cache/images/dfaf3849e74bf973b59eb50dab52b583_cerberus_enhanced.tif_thumb.png\"/></a>\n"
     ]
    }
   ],
   "source": [
    "#twit = soup.find_all('div', class_='content_title') # gets all title\n",
    "#img1 = soup.find_all('a', class_='product-item') # gets 1st title\n",
    "image1 = h_soup.find('div', class_='item') # gets 1st title\n",
    "image1 = h_soup.find('a', class_='product-item') # gets 1st title\n",
    "print(image1)"
   ]
  },
  {
   "cell_type": "code",
   "execution_count": 38,
   "metadata": {},
   "outputs": [],
   "source": [
    "# image_name = h_soup.find('h2',class_='title' )\n",
    "# print(image_name)"
   ]
  },
  {
   "cell_type": "code",
   "execution_count": 39,
   "metadata": {},
   "outputs": [
    {
     "name": "stdout",
     "output_type": "stream",
     "text": [
      "/search/map/Mars/Viking/cerberus_enhanced\n"
     ]
    }
   ],
   "source": [
    "href1 = image1[\"href\"]\n",
    "\n",
    "print(href1)"
   ]
  },
  {
   "cell_type": "code",
   "execution_count": 40,
   "metadata": {},
   "outputs": [
    {
     "name": "stdout",
     "output_type": "stream",
     "text": [
      "https://astrogeology.usgs.gov/search/map/Mars/Viking/cerberus_enhanced\n"
     ]
    }
   ],
   "source": [
    "#full image url\n",
    "image_url1 = 'https://astrogeology.usgs.gov' + href1\n",
    "print(image_url1)"
   ]
  },
  {
   "cell_type": "code",
   "execution_count": 45,
   "metadata": {},
   "outputs": [
    {
     "name": "stdout",
     "output_type": "stream",
     "text": [
      "<a href=\"http://astropedia.astrogeology.usgs.gov/download/Mars/Viking/cerberus_enhanced.tif/full.jpg\" target=\"_blank\">Sample</a>\n"
     ]
    }
   ],
   "source": [
    "## Section to get image\n",
    "# browser.visit(image_url1)\n",
    "# img_soup = BeautifulSoup(browser.html, 'lxml')\n",
    "image_link = img_soup.find('a',target=\"_blank\" )\n",
    "\n",
    "print(image_link)\n",
    "#browser.click_link_by_partial_text('FULL IMAGE')"
   ]
  },
  {
   "cell_type": "code",
   "execution_count": 46,
   "metadata": {},
   "outputs": [
    {
     "name": "stdout",
     "output_type": "stream",
     "text": [
      "<h2 class=\"title\">Cerberus Hemisphere Enhanced</h2>\n"
     ]
    }
   ],
   "source": [
    "image_name = img_soup.find('h2',class_='title' )\n",
    "print(image_name)"
   ]
  },
  {
   "cell_type": "code",
   "execution_count": 43,
   "metadata": {},
   "outputs": [
    {
     "name": "stdout",
     "output_type": "stream",
     "text": [
      "Cerberus Hemisphere Enhanced\n"
     ]
    }
   ],
   "source": [
    "name1 = image_name.text\n",
    "print(name1)"
   ]
  },
  {
   "cell_type": "code",
   "execution_count": 44,
   "metadata": {},
   "outputs": [
    {
     "name": "stdout",
     "output_type": "stream",
     "text": [
      "http://astropedia.astrogeology.usgs.gov/download/Mars/Viking/cerberus_enhanced.tif/full.jpg\n"
     ]
    }
   ],
   "source": [
    "href_image = image_link[\"href\"]\n",
    "print(href_image)"
   ]
  },
  {
   "cell_type": "code",
   "execution_count": 38,
   "metadata": {},
   "outputs": [],
   "source": [
    "hemisphere_image_urls = []\n",
    "\n",
    "browser.visit(hem_url)"
   ]
  },
  {
   "cell_type": "code",
   "execution_count": 39,
   "metadata": {},
   "outputs": [
    {
     "data": {
      "text/plain": [
       "<!DOCTYPE html>\n",
       "<html lang=\"en\" xmlns=\"http://www.w3.org/1999/xhtml\"><head>\n",
       "<link href=\"//ajax.googleapis.com/ajax/libs/jqueryui/1.11.3/themes/smoothness/jquery-ui.css\" rel=\"stylesheet\" type=\"text/css\"/>\n",
       "<script async=\"\" src=\"https://ssl.google-analytics.com/ga.js\" type=\"text/javascript\"></script><script src=\"https://ajax.googleapis.com/ajax/libs/jquery/1.11.1/jquery.min.js\" type=\"text/javascript\"></script>\n",
       "<title>Astropedia Search Results | USGS Astrogeology Science Center</title>\n",
       "<meta content=\"USGS Astrogeology Science Center Astropedia search results.\" name=\"description\"/>\n",
       "<meta content=\"USGS,Astrogeology Science Center,Cartography,Geology,Space,Geological Survey,Mapping\" name=\"keywords\"/>\n",
       "<meta content=\"IE=edge\" http-equiv=\"X-UA-Compatible\"/>\n",
       "<meta content=\"text/html; charset=utf-8\" http-equiv=\"Content-Type\"/>\n",
       "<meta content=\"width=device-width, initial-scale=1, maximum-scale=1\" name=\"viewport\"/>\n",
       "<meta content=\"x61hXXVj7wtfBSNOPnTftajMsZ5yB2W-qRoyr7GtOKM\" name=\"google-site-verification\"/>\n",
       "<!--<link rel=\"stylesheet\" href=\"http://fonts.googleapis.com/css?family=Open+Sans:400italic,400,bold\"/>-->\n",
       "<link href=\"/css/main.css\" media=\"screen\" rel=\"stylesheet\"/>\n",
       "<link href=\"/css/print.css\" media=\"print\" rel=\"stylesheet\"/>\n",
       "<!--[if lt IE 9]>\n",
       "\t\t\t<script src=\"http://html5shiv.googlecode.com/svn/trunk/html5.js\"></script>\n",
       "\t\t\t<script src=\"/js/respond.min.js\"></script>\n",
       "\t\t\t<link rel=\"stylesheet\" type=\"text/css\" href=\"/css/ie.css\"/>\n",
       "                        <script>\n",
       "                          document.createElement('header');\n",
       "                          document.createElement('nav');\n",
       "                          document.createElement('section');\n",
       "                          document.createElement('article');\n",
       "                          document.createElement('aside');\n",
       "                          document.createElement('footer');\n",
       "                          document.createElement('hgroup');\n",
       "                        </script>\n",
       "                  <![endif]-->\n",
       "<link href=\"/favicon.ico\" rel=\"icon\" type=\"image/x-ico\"/>\n",
       "</head>\n",
       "<body id=\"results\">\n",
       "<header>\n",
       "<h1>Astrogeology Science Center</h1>\n",
       "<a href=\"http://www.usgs.gov\">\n",
       "<img alt=\"USGS: Science for a Changing World\" class=\"logo\" height=\"70\" src=\"/images/usgs_logo_main_2x.png\" width=\"180\"/>\n",
       "</a>\n",
       "</header>\n",
       "<div class=\"wrapper\">\n",
       "<nav>\n",
       "<a href=\"#\" id=\"nav-toggle\" title=\"Navigation Menu\">Menu</a>\n",
       "<ul class=\"dropdown dropdown-horizontal\" id=\"yw0\">\n",
       "<li><a href=\"/\">Home</a></li>\n",
       "<li><a href=\"/about\">About</a>\n",
       "<ul>\n",
       "<li><a href=\"/about/careers\">Careers</a></li>\n",
       "<li><a href=\"/contact\">Contact</a></li>\n",
       "<li><a href=\"/about/events\">Events</a></li>\n",
       "<li><a href=\"/site/glossary\">Glossary</a></li>\n",
       "<li><a href=\"/about/mission\">Mission</a></li>\n",
       "<li><a href=\"/news\">News</a></li>\n",
       "<li><a href=\"/people\">People</a></li>\n",
       "<li><a href=\"/about/using-our-images\">Using Our Images</a></li>\n",
       "<li><a href=\"/about/visitors\">Visitors</a></li>\n",
       "</ul>\n",
       "</li>\n",
       "<li><a href=\"/facilities\">Labs / Facilities</a>\n",
       "<ul>\n",
       "<li><a href=\"/facilities/flynn-creek-crater-sample-collection\">Flynn Creek Crater Sample Collection</a></li>\n",
       "<li><a href=\"http://www.moon-cal.org\">Lunar Calibration Project</a></li>\n",
       "<li><a href=\"/facilities/meteor-crater-sample-collection\">Meteor Crater Sample Collection</a></li>\n",
       "<li><a href=\"/facilities/mrctr\">MRCTR GIS Lab</a></li>\n",
       "<li><a href=\"/facilities/cartography-and-imaging-sciences-node-of-nasa-planetary-data-system\">PDS Cartography and Imaging Sciences Node</a></li>\n",
       "<li><a href=\"/pds/annex\">PDS IMG Annex</a></li>\n",
       "<li><a href=\"/facilities/photogrammetry-guest-facility\">Photogrammetry Guest Facility</a></li>\n",
       "<li><a href=\"/rpif\">Regional Planetary Information Facility (RPIF)</a></li>\n",
       "</ul>\n",
       "</li>\n",
       "<li><a href=\"/maps\">Maps / Products</a>\n",
       "<ul>\n",
       "<li><a href=\"/search\">Product Search</a></li>\n",
       "<li><a href=\"http://planetarynames.wr.usgs.gov\">Gazetteer of Planetary Nomenclature</a></li>\n",
       "<li><a href=\"http://planetarymapping.wr.usgs.gov\">Geologic Mapping Program</a></li>\n",
       "<li><a href=\"http://pilot.wr.usgs.gov\">Planetary Image Locator Tool (PILOT)</a></li>\n",
       "<li><a href=\"/search/planetary-index\">Planetary Map Index</a></li>\n",
       "</ul>\n",
       "</li>\n",
       "<li><a href=\"/geology\">Missions / Research</a>\n",
       "<ul>\n",
       "<li><a href=\"/geology/mars-dunes\">Mars Dunes</a></li>\n",
       "<li><a href=\"/geology/mars-ice\">Mars Ice</a></li>\n",
       "<li><a href=\"/missions\">Mission Support</a></li>\n",
       "<li><a href=\"/solar-system\">Solar System</a></li>\n",
       "<li><a href=\"/groups\">Working Groups</a></li>\n",
       "</ul>\n",
       "</li>\n",
       "<li><a href=\"/tools\">Tools</a>\n",
       "<ul>\n",
       "<li><a href=\"http://planetarynames.wr.usgs.gov\">Gazetteer of Planetary Nomenclature</a></li>\n",
       "<li><a href=\"http://isis.astrogeology.usgs.gov\">Integrated Software for Imagers and Spectrometers (ISIS)</a></li>\n",
       "<li><a href=\"http://astrogeology.usgs.gov/tools/map-a-planet-2\">Map a Planet 2</a></li>\n",
       "<li><a href=\"http://pilot.wr.usgs.gov\">Planetary Image Locator Tool (PILOT)</a></li>\n",
       "<li><a href=\"http://astrocloud.wr.usgs.gov/\">Projection on the Web (POW)</a></li>\n",
       "</ul>\n",
       "</li>\n",
       "</ul> <form action=\"/search/results\" class=\"search\" id=\"search\" method=\"get\">\n",
       "<input title=\"Search Astropedia\" type=\"submit\" value=\"\"/>\n",
       "<input name=\"q\" placeholder=\"Search\" type=\"text\"/>\n",
       "<input name=\"__ncforminfo\" type=\"hidden\" value=\"EDd2msYtpDLa6somt0WyNENXmlU7IWARxV16aYBpTo2nZLBeDcZRaYE7atyi19XkL4i_eTR3FK4uDVv7oyc0Hzg9ZIIvZdFWh5aF-rsamt4=\"/></form>\n",
       "</nav>\n",
       "<div class=\"container\">\n",
       "<form action=\"/search/results\" class=\"bar widget block\" id=\"search-bar\">\n",
       "<input name=\"q\" type=\"hidden\" value=\"hemisphere-enhanced\"/>\n",
       "<input name=\"target\" type=\"hidden\" value=\"Mars\"/><input name=\"__ncforminfo\" type=\"hidden\" value=\"EDd2msYtpDLa6somt0WyNENXmlU7IWARxV16aYBpTo1FI-3iHsUHNFf4nbNVC8lUbPBZF-gqS7hxW1DHw_bnLiJ0syic6_apo7Gc9M4TkKFOh6vVCfxAIg==\"/></form><div class=\"full-content\"> <section class=\"block\" id=\"results-accordian\">\n",
       "<div class=\"result-list\" data-section=\"product\" id=\"product-section\">\n",
       "<div class=\"accordian\">\n",
       "<h2>Products</h2>\n",
       "<span class=\"count\">4 Results</span>\n",
       "<span class=\"collapse\">Collapse</span>\n",
       "</div>\n",
       "<div class=\"collapsible results\">\n",
       "<div class=\"item\"><a class=\"itemLink product-item\" href=\"/search/map/Mars/Viking/cerberus_enhanced\"><img alt=\"Cerberus Hemisphere Enhanced thumbnail\" class=\"thumb\" src=\"/cache/images/dfaf3849e74bf973b59eb50dab52b583_cerberus_enhanced.tif_thumb.png\"/></a><div class=\"description\"><a class=\"itemLink product-item\" href=\"/search/map/Mars/Viking/cerberus_enhanced\"><h3>Cerberus Hemisphere Enhanced</h3></a><span class=\"subtitle\" style=\"float:left\">image/tiff 21 MB</span><span class=\"pubDate\" style=\"float:right\"></span><br/><p>Mosaic of the Cerberus hemisphere of Mars projected into point perspective, a view similar to that which one would see from a spacecraft. This mosaic is composed of 104 Viking Orbiter images acquired…</p></div> <!-- end description --></div><div class=\"item\"><a class=\"itemLink product-item\" href=\"/search/map/Mars/Viking/schiaparelli_enhanced\"><img alt=\"Schiaparelli Hemisphere Enhanced thumbnail\" class=\"thumb\" src=\"/cache/images/7677c0a006b83871b5a2f66985ab5857_schiaparelli_enhanced.tif_thumb.png\"/></a><div class=\"description\"><a class=\"itemLink product-item\" href=\"/search/map/Mars/Viking/schiaparelli_enhanced\"><h3>Schiaparelli Hemisphere Enhanced</h3></a><span class=\"subtitle\" style=\"float:left\">image/tiff 35 MB</span><span class=\"pubDate\" style=\"float:right\"></span><br/><p>Mosaic of the Schiaparelli hemisphere of Mars projected into point perspective, a view similar to that which one would see from a spacecraft. The images were acquired in 1980 during early northern…</p></div> <!-- end description --></div><div class=\"item\"><a class=\"itemLink product-item\" href=\"/search/map/Mars/Viking/syrtis_major_enhanced\"><img alt=\"Syrtis Major Hemisphere Enhanced thumbnail\" class=\"thumb\" src=\"/cache/images/aae41197e40d6d4f3ea557f8cfe51d15_syrtis_major_enhanced.tif_thumb.png\"/></a><div class=\"description\"><a class=\"itemLink product-item\" href=\"/search/map/Mars/Viking/syrtis_major_enhanced\"><h3>Syrtis Major Hemisphere Enhanced</h3></a><span class=\"subtitle\" style=\"float:left\">image/tiff 25 MB</span><span class=\"pubDate\" style=\"float:right\"></span><br/><p>Mosaic of the Syrtis Major hemisphere of Mars projected into point perspective, a view similar to that which one would see from a spacecraft. This mosaic is composed of about 100 red and violet…</p></div> <!-- end description --></div><div class=\"item\"><a class=\"itemLink product-item\" href=\"/search/map/Mars/Viking/valles_marineris_enhanced\"><img alt=\"Valles Marineris Hemisphere Enhanced thumbnail\" class=\"thumb\" src=\"/cache/images/04085d99ec3713883a9a57f42be9c725_valles_marineris_enhanced.tif_thumb.png\"/></a><div class=\"description\"><a class=\"itemLink product-item\" href=\"/search/map/Mars/Viking/valles_marineris_enhanced\"><h3>Valles Marineris Hemisphere Enhanced</h3></a><span class=\"subtitle\" style=\"float:left\">image/tiff 27 MB</span><span class=\"pubDate\" style=\"float:right\"></span><br/><p>Mosaic of the Valles Marineris hemisphere of Mars projected into point perspective, a view similar to that which one would see from a spacecraft. The distance is 2500 kilometers from the surface of…</p></div> <!-- end description --></div><script>addBases=[];;if(typeof resetLayerSwitcher===\"function\"){resetLayerSwitcher(false)};var productTotal = 4;</script>\n",
       "</div> <!-- end this-section -->\n",
       "</div></section>\n",
       "</div>\n",
       "</div>\n",
       "<div class=\"icons projects black scroll-wrapper\">\n",
       "<div class=\"scroll\">\n",
       "<a class=\"icon\" href=\"http://isis.astrogeology.usgs.gov\" title=\"Integrated Software for Imagers and Spectrometers\">\n",
       "<img alt=\"ISIS Logo\" height=\"112\" src=\"/images/logos/isis_2x.jpg\" width=\"112\"/>\n",
       "<span class=\"label\">ISIS</span>\n",
       "</a>\n",
       "<a class=\"icon\" href=\"http://planetarynames.wr.usgs.gov\" title=\"Gazetteer of Planetary Nomenclature\">\n",
       "<img alt=\"Nomenclature Logo\" height=\"112\" src=\"/images/logos/nomenclature_2x.jpg\" width=\"112\"/>\n",
       "<span class=\"label\">Planetary Nomenclature</span>\n",
       "</a>\n",
       "<a class=\"icon\" href=\"http://astrogeology.usgs.gov/tools/map\" title=\"Map a Planet 2\">\n",
       "<img alt=\"Map-a-Planet Logo\" height=\"112\" src=\"/images/logos/map_a_planet_2x.jpg\" width=\"112\"/>\n",
       "<span class=\"label\">Map a Planet 2</span>\n",
       "</a>\n",
       "<a class=\"icon\" href=\"/facilities/imaging-node-of-nasa-planetary-data-system-pds\" title=\"PDS Imaging Node\">\n",
       "<img alt=\"PDS Logo\" height=\"112\" src=\"/images/pds_logo-black-web.png\"/>\n",
       "<span class=\"label\">PDS Imaging Node</span>\n",
       "</a>\n",
       "<!--\n",
       "\t\t\t\t\t\t<a title=\"Astropedia Search\" href=\"/search\" class=\"icon\">\n",
       "\t\t\t\t\t\t\t<img alt=\"Astropedia Logo\" height=\"112\" width=\"112\" src=\"/images/logos/astropedia_2x.jpg\"/>\n",
       "\t\t\t\t\t\t\t<span class=\"label\">Astropedia</span>\n",
       "\t\t\t\t\t\t</a>\n",
       "-->\n",
       "<a class=\"icon\" href=\"/rpif\" title=\"Regional Planetary Image Facility\">\n",
       "<img alt=\"RPIF Logo\" height=\"112\" src=\"/images/logos/rpif_2x.jpg\" width=\"112\"/>\n",
       "<span class=\"label\">RPIF</span>\n",
       "</a>\n",
       "<a class=\"icon\" href=\"/facilities/photogrammetry-guest-facility\" title=\"Photogrammetry Guest Facility\">\n",
       "<img alt=\"Photogrammetry Guest Faciltiy Logo\" height=\"112\" src=\"/images/logos/photogrammetry_2x.jpg\" width=\"112\"/>\n",
       "<span class=\"label\">Photogrammetry Guest Facility</span>\n",
       "</a>\n",
       "<a class=\"icon\" href=\"http://pilot.wr.usgs.gov\" title=\"Planetary Image Locator Tool\">\n",
       "<img alt=\"Pilot Logo\" height=\"112\" src=\"/images/logos/pilot_2x.jpg\" width=\"112\"/>\n",
       "<span class=\"label\">PILOT</span>\n",
       "</a>\n",
       "<a class=\"icon\" href=\"/facilities/mrctr\" title=\"Mapping, Remote-sensing, Cartography, Technology and Research GIS Lab\">\n",
       "<img alt=\"MRCTR GIS Lab Logo\" height=\"112\" src=\"/images/logos/mrctr_2x.jpg\" width=\"112\"/>\n",
       "<span class=\"label\">MRCTR GIS Lab</span>\n",
       "</a>\n",
       "</div>\n",
       "</div>\n",
       "<footer>\n",
       "<div class=\"left\">\n",
       "<a href=\"http://astrogeology.usgs.gov\">Home</a> |\n",
       "\t\t\t\t\t<a href=\"http://astrogeology.usgs.gov/contact\">Contact</a> |\n",
       "\t\t\t\t\t<a href=\"http://astrogeology.usgs.gov/about/events\">Events</a> |\n",
       "\t\t\t\t\t<a href=\"http://astrogeology.usgs.gov/news\">News</a>\n",
       "</div>\n",
       "<div class=\"right\">\n",
       "<a href=\"http://www.doi.gov\">U.S. Department of Interior</a> | <a href=\"http://www.usgs.gov\">U.S. Geological Survey</a> | <a href=\"http://www.usa.gov\">USA.gov</a>\n",
       "</div>\n",
       "</footer>\n",
       "</div>\n",
       "<!--\n",
       "\t\t<div class=\"credit\">\n",
       "\t\t\t<small>Background Credits: NASA/USGS</small>\n",
       "\t\t</div>\n",
       "-->\n",
       "<div class=\"page-background\" style=\"\n",
       "\t\t\tbackground:url('/images/backgrounds/mars.jpg');\n",
       "\t\t\tfilter:progid:DXImageTransform.Microsoft.AlphaImageLoader(\n",
       "\t\t\t\tsrc='/images/backgrounds/mars.jpg', sizingMethod='scale');\n",
       "\t\t\"></div>\n",
       "<script type=\"text/javascript\">\n",
       "var baseUrl = \"\";\n",
       "\n",
       "\n",
       "var _gaq = _gaq || [];_gaq.push(['_setAccount', 'UA-27613186-1']);_gaq.push(['_trackPageview']);(function() { var ga = document.createElement('script'); ga.type = 'text/javascript'; ga.async = true;ga.src = ('https:' == document.location.protocol ? 'https://ssl' : 'http://www') + '.google-analytics.com/ga.js'; var s = document.getElementsByTagName('script')[0]; s.parentNode.insertBefore(ga, s);})();\n",
       "\n",
       "\t\t</script>\n",
       "<script src=\"//ajax.googleapis.com/ajax/libs/jqueryui/1.11.3/jquery-ui.min.js\" type=\"text/javascript\"></script>\n",
       "<script src=\"/js/general.js\" type=\"text/javascript\"></script>\n",
       "</body></html>"
      ]
     },
     "execution_count": 39,
     "metadata": {},
     "output_type": "execute_result"
    }
   ],
   "source": [
    "h_soup = BeautifulSoup(browser.html, 'lxml')\n",
    "h_soup"
   ]
  },
  {
   "cell_type": "code",
   "execution_count": 51,
   "metadata": {},
   "outputs": [
    {
     "name": "stdout",
     "output_type": "stream",
     "text": [
      "h1 =  <div class=\"description\"><a class=\"itemLink product-item\" href=\"/search/map/Mars/Viking/cerberus_enhanced\"><h3>Cerberus Hemisphere Enhanced</h3></a><span class=\"subtitle\" style=\"float:left\">image/tiff 21 MB</span><span class=\"pubDate\" style=\"float:right\"></span><br/><p>Mosaic of the Cerberus hemisphere of Mars projected into point perspective, a view similar to that which one would see from a spacecraft. This mosaic is composed of 104 Viking Orbiter images acquired…</p></div>\n",
      "h2 =  <a class=\"itemLink product-item\" href=\"/search/map/Mars/Viking/cerberus_enhanced\"><h3>Cerberus Hemisphere Enhanced</h3></a>\n",
      "href =  /search/map/Mars/Viking/cerberus_enhanced\n"
     ]
    }
   ],
   "source": [
    "#hemis_check = h_soup.find_all(class_='product-item')\n",
    "hemis_check = h_soup.find_all(class_='description')\n",
    "\n",
    "h1= hemis_check[0]\n",
    "print('h1 = ', h1)\n",
    "h2 = hemis_check[0].a\n",
    "print('h2 = ' ,h2)\n",
    "href_image = h2['href']\n",
    "print('href = ',href_image)\n",
    "#href1 = hemis_check[\"href\"] #hemis_check\n",
    "\n",
    "#print(href1)"
   ]
  },
  {
   "cell_type": "code",
   "execution_count": 41,
   "metadata": {},
   "outputs": [
    {
     "name": "stdout",
     "output_type": "stream",
     "text": [
      "http://astropedia.astrogeology.usgs.gov/download/Mars/Viking/cerberus_enhanced.tif/full.jpg\n",
      "http://astropedia.astrogeology.usgs.gov/download/Mars/Viking/schiaparelli_enhanced.tif/full.jpg\n",
      "http://astropedia.astrogeology.usgs.gov/download/Mars/Viking/syrtis_major_enhanced.tif/full.jpg\n",
      "http://astropedia.astrogeology.usgs.gov/download/Mars/Viking/valles_marineris_enhanced.tif/full.jpg\n"
     ]
    }
   ],
   "source": [
    "hem_url = 'https://astrogeology.usgs.gov/search/results?q=hemisphere+enhanced&k1=target&v1=Mars'\n",
    "browser.visit(hem_url)\n",
    "h_soup = BeautifulSoup(browser.html, 'lxml')\n",
    "hemis_check = h_soup.find_all(class_='description')\n",
    "\n",
    "for results in hemis_check:\n",
    "    h1 = results.h3.text\n",
    "    #href_image = h1['href']\n",
    "    browser.click_link_by_partial_text(h1)\n",
    "    time.sleep(1)\n",
    "    hemis_temp_soup = BeautifulSoup(browser.html, 'lxml')\n",
    "    image_link = hemis_temp_soup.find('a',target=\"_blank\" )\n",
    "    href_image = image_link[\"href\"]\n",
    "    hemisphere_image_urls.append({'title':h1, 'img_url':href_image})\n",
    "    browser.visit(hem_url) # takes back to home\n",
    "    print(href_image)"
   ]
  },
  {
   "cell_type": "code",
   "execution_count": 42,
   "metadata": {},
   "outputs": [],
   "source": [
    "hem_url = 'https://astrogeology.usgs.gov/search/results?q=hemisphere+enhanced&k1=target&v1=Mars'"
   ]
  },
  {
   "cell_type": "code",
   "execution_count": null,
   "metadata": {},
   "outputs": [],
   "source": [
    "#Final way to scrape the image"
   ]
  },
  {
   "cell_type": "code",
   "execution_count": 43,
   "metadata": {},
   "outputs": [
    {
     "name": "stdout",
     "output_type": "stream",
     "text": [
      "Cerberus Hemisphere Enhanced\n",
      "Schiaparelli Hemisphere Enhanced\n",
      "Syrtis Major Hemisphere Enhanced\n",
      "Valles Marineris Hemisphere Enhanced\n"
     ]
    }
   ],
   "source": [
    "browser.visit(hem_url)\n",
    "h_soup = BeautifulSoup(browser.html, 'lxml')\n",
    "\n",
    "hemis_query = h_soup.find_all(class_='item')\n",
    "for result in hemis_query:\n",
    "    print(result.h3.text)\n",
    "    browser.visit(hem_url)\n",
    "    browser.click_link_by_partial_text(result.h3.text)\n",
    "    hemis_temp_soup = BeautifulSoup(browser.html, 'lxml')\n",
    "    \n",
    "    hemi_name = result.h3.text.replace(' Enhanced', '')\n",
    "    hemi_img_url = hemis_temp_soup.find(target='_blank')['href']\n",
    "    \n",
    "    hemisphere_image_urls.append({'title':hemi_name, 'img_url':hemi_img_url})"
   ]
  },
  {
   "cell_type": "code",
   "execution_count": 44,
   "metadata": {},
   "outputs": [
    {
     "name": "stdout",
     "output_type": "stream",
     "text": [
      "[{'title': 'Cerberus Hemisphere Enhanced', 'img_url': 'http://astropedia.astrogeology.usgs.gov/download/Mars/Viking/cerberus_enhanced.tif/full.jpg'}, {'title': 'Schiaparelli Hemisphere Enhanced', 'img_url': 'http://astropedia.astrogeology.usgs.gov/download/Mars/Viking/schiaparelli_enhanced.tif/full.jpg'}, {'title': 'Syrtis Major Hemisphere Enhanced', 'img_url': 'http://astropedia.astrogeology.usgs.gov/download/Mars/Viking/syrtis_major_enhanced.tif/full.jpg'}, {'title': 'Valles Marineris Hemisphere Enhanced', 'img_url': 'http://astropedia.astrogeology.usgs.gov/download/Mars/Viking/valles_marineris_enhanced.tif/full.jpg'}, {'title': 'Cerberus Hemisphere', 'img_url': 'http://astropedia.astrogeology.usgs.gov/download/Mars/Viking/cerberus_enhanced.tif/full.jpg'}, {'title': 'Schiaparelli Hemisphere', 'img_url': 'http://astropedia.astrogeology.usgs.gov/download/Mars/Viking/schiaparelli_enhanced.tif/full.jpg'}, {'title': 'Syrtis Major Hemisphere', 'img_url': 'http://astropedia.astrogeology.usgs.gov/download/Mars/Viking/syrtis_major_enhanced.tif/full.jpg'}, {'title': 'Valles Marineris Hemisphere', 'img_url': 'http://astropedia.astrogeology.usgs.gov/download/Mars/Viking/valles_marineris_enhanced.tif/full.jpg'}]\n"
     ]
    }
   ],
   "source": [
    "print(hemisphere_image_urls)"
   ]
  },
  {
   "cell_type": "code",
   "execution_count": null,
   "metadata": {},
   "outputs": [],
   "source": [
    "browser.quit() #gracefl quit"
   ]
  },
  {
   "cell_type": "code",
   "execution_count": null,
   "metadata": {},
   "outputs": [],
   "source": []
  },
  {
   "cell_type": "code",
   "execution_count": null,
   "metadata": {},
   "outputs": [],
   "source": []
  }
 ],
 "metadata": {
  "kernelspec": {
   "display_name": "Python 3",
   "language": "python",
   "name": "python3"
  },
  "language_info": {
   "codemirror_mode": {
    "name": "ipython",
    "version": 3
   },
   "file_extension": ".py",
   "mimetype": "text/x-python",
   "name": "python",
   "nbconvert_exporter": "python",
   "pygments_lexer": "ipython3",
   "version": "3.7.0"
  }
 },
 "nbformat": 4,
 "nbformat_minor": 2
}
